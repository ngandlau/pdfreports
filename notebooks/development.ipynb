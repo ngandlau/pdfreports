{
 "cells": [
  {
   "cell_type": "markdown",
   "metadata": {},
   "source": [
    "## Setup"
   ]
  },
  {
   "cell_type": "code",
   "execution_count": 54,
   "metadata": {},
   "outputs": [
    {
     "name": "stdout",
     "output_type": "stream",
     "text": [
      "The autoreload extension is already loaded. To reload it, use:\n",
      "  %reload_ext autoreload\n"
     ]
    }
   ],
   "source": [
    "import os\n",
    "import subprocess\n",
    "import dotenv\n",
    "from pathlib import Path\n",
    "\n",
    "# autoreload any .py scripts\n",
    "%load_ext autoreload\n",
    "%autoreload 2\n",
    "\n",
    "# set the project's root directory as the notebooks' working directory\n",
    "git_root = subprocess.run(\n",
    "    [\"git\", \"rev-parse\", \"--show-toplevel\"], capture_output=True, text=True\n",
    ").stdout.strip()\n",
    "\n",
    "os.chdir(git_root)\n",
    "\n",
    "env_path = Path(os.getcwd()).as_posix()"
   ]
  },
  {
   "cell_type": "markdown",
   "metadata": {},
   "source": [
    "## Example data"
   ]
  },
  {
   "cell_type": "code",
   "execution_count": 64,
   "metadata": {},
   "outputs": [],
   "source": [
    "from src.reports import Observation, Address, ProjectInfo, ProjectMember, ReportInfo, create_report, CompanyInfo\n",
    "from jinja2 import Environment, FileSystemLoader\n",
    "from datetime import date, time\n",
    "\n",
    "\n",
    "observations = [\n",
    "    # a default row\n",
    "    Observation(\n",
    "        images=[\n",
    "            Path(\"example-image-01.jpg\"),\n",
    "        ],\n",
    "        text_content=\"Lorem ipsum dolor sit amet, consetetur sadipscing elitr, sed diam nonumy eirmod tempor invidunt ut labore et dolore magna aliquyam erat, sed diam voluptua. At vero eos et accusam et justo duo dolores et ea rebum. Stet clita kasd gubergren, no sea takimata sanctus est Lorem ipsum dolor sit amet. Lorem ipsum dolor sit amet, consetetur sadipscing elitr, sed diam nonumy eirmod tempor invidunt ut labore et dolore magna aliquyam erat, sed diam voluptua. At vero eos et accusam et justo duo dolores et ea rebum. Stet clita kasd gubergren, no sea takimata sanctus est Lorem ipsum dolor sit amet.\",\n",
    "        assignee=\"Lorem ipsum dolor sit\",\n",
    "        due_date=\"Today\"\n",
    "    ),\n",
    "    # row with two images\n",
    "    Observation(\n",
    "        images=[\n",
    "            Path(\"example-image-01.jpg\"),\n",
    "            Path(\"example-image-02.jpg\"),\n",
    "        ],\n",
    "        text_content=\"Lorem ipsum dolor sit amet, consetetur sadipscing elitr, sed diam nonumy eirmod tempor invidunt ut labore et dolore magna aliquyam\",\n",
    "        assignee=\"Lorem ipsum dolor sit\",\n",
    "        due_date=\"Today\"\n",
    "    ),\n",
    "    # row without description, assignee, due date\n",
    "    Observation(\n",
    "        images=[\n",
    "            Path(\"example-image-02.jpg\"),\n",
    "        ],\n",
    "    ),\n",
    "    # tests empty row\n",
    "    Observation(),\n",
    "]\n",
    "\n",
    "company_info = CompanyInfo(\n",
    "    name=\"Mustermann Ingenieurgesellschaft mbH\",\n",
    "    department=\"Niederlassung Musterstadt\",\n",
    "    address=Address(\n",
    "        street=\"Musterstraße 123\",\n",
    "        postal_code=12345,\n",
    "        city=\"Musterstadt\"\n",
    "    ),\n",
    "    logo=Path(\"example-logo.svg\"),\n",
    "    phone=\"+49 211 3611370\",\n",
    "    email=\"company@example.com\",\n",
    "    website=\"www.mycompany.com\"\n",
    ")\n",
    "\n",
    "project_info = ProjectInfo(\n",
    "    name=\"Musterprojekt\",\n",
    "    number=\"123456\",\n",
    "    email=\"optional@project-email.com\",\n",
    "    address=Address(\n",
    "        street=\"Musterstraße 123\",\n",
    "        postal_code=12345,\n",
    "        city=\"Musterstadt\"\n",
    "    ),\n",
    "    start_date=date(2024, 1, 1),\n",
    "    end_date=date(2025, 1, 1),\n",
    "    members=[\n",
    "        ProjectMember(\n",
    "            first_name=\"Maria\",\n",
    "            last_name=\"Musterfrau\",\n",
    "            role=\"Projektleiter\",\n",
    "            company=\"Mustermann Ingenieurgesellschaft mbH\"\n",
    "        ),\n",
    "        ProjectMember(\n",
    "            first_name=\"Max\",\n",
    "            last_name=\"Mustermann\",\n",
    "            company=\"Mustermann Ingenieurgesellschaft mbH\"\n",
    "        )\n",
    "    ]\n",
    ")\n",
    "\n",
    "report_info = ReportInfo(\n",
    "    title=\"Baubegehung\",\n",
    "    date=date(2024, 1, 1),\n",
    "    start_time=time(10, 0),\n",
    "    end_time=time(12, 0),\n",
    "    weather=\"Sonnig, ca. 10°C, Luftfeuchtigkeit 80%\",\n",
    "    description=\"Baubesprechung. Vor Ort: 1x Polierer, 5x Facharbeiter\",\n",
    ")"
   ]
  },
  {
   "cell_type": "code",
   "execution_count": 63,
   "metadata": {},
   "outputs": [
    {
     "name": "stdout",
     "output_type": "stream",
     "text": [
      "PDF report generated as 'report.pdf'\n"
     ]
    }
   ],
   "source": [
    "from pdf_reports.src.reports import TableHeaders\n",
    "\n",
    "\n",
    "create_report(\n",
    "    template_directory=Path(\"templates\"),\n",
    "    table_headers=TableHeaders,\n",
    "    company_info=company_info,\n",
    "    project_info=project_info,\n",
    "    report_info=report_info,\n",
    "    observations=observations,\n",
    ")"
   ]
  },
  {
   "cell_type": "code",
   "execution_count": null,
   "metadata": {},
   "outputs": [],
   "source": []
  }
 ],
 "metadata": {
  "kernelspec": {
   "display_name": ".venv",
   "language": "python",
   "name": "python3"
  },
  "language_info": {
   "codemirror_mode": {
    "name": "ipython",
    "version": 3
   },
   "file_extension": ".py",
   "mimetype": "text/x-python",
   "name": "python",
   "nbconvert_exporter": "python",
   "pygments_lexer": "ipython3",
   "version": "3.12.6"
  }
 },
 "nbformat": 4,
 "nbformat_minor": 2
}
